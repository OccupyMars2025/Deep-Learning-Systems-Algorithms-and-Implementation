{
  "cells": [
    {
      "cell_type": "markdown",
      "metadata": {
        "id": "view-in-github",
        "colab_type": "text"
      },
      "source": [
        "<a href=\"https://colab.research.google.com/github/OccupyMars2025/Deep-Learning-Systems-Algorithms-and-Implementation/blob/main/course_material/colab/Copy_of_hw2.ipynb\" target=\"_parent\"><img src=\"https://colab.research.google.com/assets/colab-badge.svg\" alt=\"Open In Colab\"/></a>"
      ]
    },
    {
      "cell_type": "markdown",
      "metadata": {
        "id": "IPTJp54KThjF"
      },
      "source": [
        "# 10-714 Homework 2\n",
        "\n",
        "In this homework, you will be implementing a neural network library in the needle framework. Reminder: __you must save a copy in drive__."
      ]
    },
    {
      "cell_type": "code",
      "source": [
        "# Code to set up the assignment\n",
        "from google.colab import drive\n",
        "drive.mount('/content/drive')"
      ],
      "metadata": {
        "colab": {
          "base_uri": "https://localhost:8080/"
        },
        "id": "plj6jo4-bUas",
        "outputId": "a7b1e0a7-6ade-47e4-aec4-929bf62c8e58"
      },
      "execution_count": null,
      "outputs": [
        {
          "output_type": "stream",
          "name": "stdout",
          "text": [
            "Mounted at /content/drive\n"
          ]
        }
      ]
    },
    {
      "cell_type": "code",
      "source": [
        "%cd /content/drive/MyDrive/10714/Deep-Learning-Systems-Algorithms-and-Implementation"
      ],
      "metadata": {
        "colab": {
          "base_uri": "https://localhost:8080/"
        },
        "id": "5jXZGCFZbh_1",
        "outputId": "c634b164-d352-4003-c72a-39595ab8890e"
      },
      "execution_count": null,
      "outputs": [
        {
          "output_type": "stream",
          "name": "stdout",
          "text": [
            "/content/drive/MyDrive/10714/Deep-Learning-Systems-Algorithms-and-Implementation\n"
          ]
        }
      ]
    },
    {
      "cell_type": "code",
      "execution_count": null,
      "metadata": {
        "id": "klJV81LvThjJ",
        "colab": {
          "base_uri": "https://localhost:8080/"
        },
        "outputId": "88301de1-bd71-4e3c-9e1c-fa94e6400054"
      },
      "outputs": [
        {
          "output_type": "stream",
          "name": "stdout",
          "text": [
            "Looking in indexes: https://pypi.org/simple, https://us-python.pkg.dev/colab-wheels/public/simple/\n",
            "Collecting git+https://github.com/dlsys10714/mugrade.git\n",
            "  Cloning https://github.com/dlsys10714/mugrade.git to /tmp/pip-req-build-3f3_qfq0\n",
            "  Running command git clone --filter=blob:none --quiet https://github.com/dlsys10714/mugrade.git /tmp/pip-req-build-3f3_qfq0\n",
            "  Resolved https://github.com/dlsys10714/mugrade.git to commit 98609ee80ee24bf278455b48aa8d06bd3f5d0430\n",
            "  Preparing metadata (setup.py) ... \u001b[?25l\u001b[?25hdone\n",
            "Building wheels for collected packages: mugrade\n",
            "  Building wheel for mugrade (setup.py) ... \u001b[?25l\u001b[?25hdone\n",
            "  Created wheel for mugrade: filename=mugrade-1.2-py3-none-any.whl size=3969 sha256=a1382e9d8efdd9055a63df154cb81ef44aea9cc96473a1fa87950a8bfad6fe59\n",
            "  Stored in directory: /tmp/pip-ephem-wheel-cache-ij88xd0_/wheels/3b/27/4a/35539c24fda8ad9b0903b5e7fd1bf16d682b75d0b402a299a5\n",
            "Successfully built mugrade\n",
            "Installing collected packages: mugrade\n",
            "Successfully installed mugrade-1.2\n"
          ]
        }
      ],
      "source": [
        "\n",
        "# %cd /content/drive/MyDrive/\n",
        "# !mkdir -p 10714\n",
        "# %cd /content/drive/MyDrive/10714\n",
        "# # !git clone https://github.com/dlsys10714/hw2.git\n",
        "# %cd /content/drive/MyDrive/10714/hw2\n",
        "\n",
        "!pip3 install --upgrade --no-deps git+https://github.com/dlsys10714/mugrade.git"
      ]
    },
    {
      "cell_type": "markdown",
      "metadata": {
        "id": "VKnz8SAcThjK"
      },
      "source": [
        "## Question 0\n",
        "\n",
        "This homework builds off of Homework 1. First, in your Homework 2 directory, go to the files `autograd.py`, `ops.py` in the `python/needle` directory, and fill in the code between `### BEGIN YOUR SOLUTION` and `### END YOUR SOLUTION` with your solutions from Homework 1. \n",
        "\n",
        "**Note:** We have added functionality since HW1, specifically in the `autograd.py` file, so it is important to copy over your solutions rather than the entire previous file."
      ]
    },
    {
      "cell_type": "code",
      "execution_count": null,
      "metadata": {
        "id": "yAiIwPF0ThjL"
      },
      "outputs": [],
      "source": [
        "import sys\n",
        "sys.path.append('./python')\n",
        "sys.path.append('./apps')"
      ]
    },
    {
      "cell_type": "code",
      "source": [
        "sys.path"
      ],
      "metadata": {
        "colab": {
          "base_uri": "https://localhost:8080/"
        },
        "id": "V_QP36QvcACB",
        "outputId": "763c3918-78f7-45ab-b58d-d4d83344942e"
      },
      "execution_count": null,
      "outputs": [
        {
          "output_type": "execute_result",
          "data": {
            "text/plain": [
              "['/content',\n",
              " '/env/python',\n",
              " '/usr/lib/python38.zip',\n",
              " '/usr/lib/python3.8',\n",
              " '/usr/lib/python3.8/lib-dynload',\n",
              " '',\n",
              " '/usr/local/lib/python3.8/dist-packages',\n",
              " '/usr/lib/python3/dist-packages',\n",
              " '/usr/local/lib/python3.8/dist-packages/IPython/extensions',\n",
              " '/root/.ipython',\n",
              " './python',\n",
              " './apps']"
            ]
          },
          "metadata": {},
          "execution_count": 5
        }
      ]
    },
    {
      "cell_type": "markdown",
      "metadata": {
        "tags": [],
        "id": "zjSA8IDzThjM"
      },
      "source": [
        "## Question 1\n",
        "\n",
        "In this first question, you will implement a few different methods for weight initialization.  This will be done in the `python/needle/init.py` file, which contains a number of routines for initializing needle Tensors using various random and constant initializations.  Following the same methodology of the existing initializers (you will want to call e.g. `init.rand` or `init.randn` from your functions below, implement the following common initialization methods.  In all cases, the functions should return `fan_in` by `fan_out` 2D tensors (extensions to other sizes can be done via e.g., reshaping).\n",
        "\n",
        "\n",
        "### Xavier uniform\n",
        "`xavier_uniform(fan_in, fan_out, gain=1.0, **kwargs)`\n",
        "\n",
        "Fills the input Tensor with values according to the method described in [Understanding the difficulty of training deep feedforward neural networks](https://proceedings.mlr.press/v9/glorot10a/glorot10a.pdf), using a uniform distribution. The resulting Tensor will have values sampled from $\\mathcal{U}(-a, a)$ where \n",
        "\\begin{equation}\n",
        "a = \\text{gain} \\times \\sqrt{\\frac{6}{\\text{fan_in} + \\text{fan_out}}}\n",
        "\\end{equation}\n",
        "\n",
        "Pass remaining `**kwargs` parameters to the corresponding `init` random call.\n",
        "\n",
        "##### Parameters\n",
        "- `fan_in` - dimensionality of input\n",
        "- `fan_out` - dimensionality of output\n",
        "- `gain` - optional scaling factor\n",
        "___\n",
        "\n",
        "### Xavier normal\n",
        "`xavier_normal(fan_in, fan_out, gain=1.0, **kwargs)`\n",
        "\n",
        "Fills the input Tensor with values according to the method described in [Understanding the difficulty of training deep feedforward neural networks](https://proceedings.mlr.press/v9/glorot10a/glorot10a.pdf), using a normal distribution. The resulting Tensor will have values sampled from $\\mathcal{N}(0, \\text{std}^2)$ where \n",
        "\\begin{equation}\n",
        "\\text{std} = \\text{gain} \\times \\sqrt{\\frac{2}{\\text{fan_in} + \\text{fan_out}}}\n",
        "\\end{equation}\n",
        "\n",
        "##### Parameters\n",
        "- `fan_in` - dimensionality of input\n",
        "- `fan_out` - dimensionality of output\n",
        "- `gain` - optional scaling factor\n",
        "___\n",
        "\n",
        "### Kaiming uniform\n",
        "`kaiming_uniform(fan_in, fan_out, nonlinearity=\"relu\", **kwargs)`\n",
        "\n",
        "Fills the input Tensor with values according to the method described in [Delving deep into rectifiers: Surpassing human-level performance on ImageNet classification](https://arxiv.org/pdf/1502.01852.pdf), using a uniform distribution. The resulting Tensor will have values sampled from $\\mathcal{U}(-\\text{bound}, \\text{bound})$ where \n",
        "\\begin{equation}\n",
        "\\text{bound} = \\text{gain} \\times \\sqrt{\\frac{3}{\\text{fan_in}}}\n",
        "\\end{equation}\n",
        "\n",
        "Use the recommended gain value for ReLU: $\\text{gain}=\\sqrt{2}$.\n",
        "\n",
        "##### Parameters\n",
        "- `fan_in` - dimensionality of input\n",
        "- `fan_out` - dimensionality of output\n",
        "- `nonlinearity` - the non-linear function\n",
        "___\n",
        "\n",
        "### Kaiming normal\n",
        "`kaiming_normal(fan_in, fan_out, nonlinearity=\"relu\", **kwargs)`\n",
        "\n",
        "Fills the input Tensor with values according to the method described in [Delving deep into rectifiers: Surpassing human-level performance on ImageNet classification](https://arxiv.org/pdf/1502.01852.pdf), using a uniform distribution. The resulting Tensor will have values sampled from $\\mathcal{N}(0, \\text{std}^2)$ where \n",
        "\\begin{equation}\n",
        "\\text{std} = \\frac{\\text{gain}}{\\sqrt{\\text{fan_in}}}\n",
        "\\end{equation}\n",
        "\n",
        "Use the recommended gain value for ReLU: $\\text{gain}=\\sqrt{2}$.\n",
        "\n",
        "##### Parameters\n",
        "- `fan_in` - dimensionality of input\n",
        "- `fan_out` - dimensionality of output\n",
        "- `nonlinearity` - the non-linear function"
      ]
    },
    {
      "cell_type": "code",
      "source": [
        "!pip install numdifftools"
      ],
      "metadata": {
        "id": "ASKsosu3dIcS",
        "outputId": "159ea2b2-d8d5-4f4a-dc79-7996ff3c2917",
        "colab": {
          "base_uri": "https://localhost:8080/"
        }
      },
      "execution_count": null,
      "outputs": [
        {
          "output_type": "stream",
          "name": "stdout",
          "text": [
            "Looking in indexes: https://pypi.org/simple, https://us-python.pkg.dev/colab-wheels/public/simple/\n",
            "Collecting numdifftools\n",
            "  Downloading numdifftools-0.9.41-py2.py3-none-any.whl (100 kB)\n",
            "\u001b[2K     \u001b[90m━━━━━━━━━━━━━━━━━━━━━━━━━━━━━━━━━━━━━━━\u001b[0m \u001b[32m100.2/100.2 KB\u001b[0m \u001b[31m2.9 MB/s\u001b[0m eta \u001b[36m0:00:00\u001b[0m\n",
            "\u001b[?25hRequirement already satisfied: numpy>=1.9 in /usr/local/lib/python3.8/dist-packages (from numdifftools) (1.21.6)\n",
            "Requirement already satisfied: scipy>=0.8 in /usr/local/lib/python3.8/dist-packages (from numdifftools) (1.7.3)\n",
            "Installing collected packages: numdifftools\n",
            "Successfully installed numdifftools-0.9.41\n"
          ]
        }
      ]
    },
    {
      "cell_type": "code",
      "execution_count": null,
      "metadata": {
        "id": "MWhRcBoTThjN",
        "colab": {
          "base_uri": "https://localhost:8080/"
        },
        "outputId": "24322d62-a7da-4a8e-9ccc-4b948813ca04"
      },
      "outputs": [
        {
          "output_type": "stream",
          "name": "stdout",
          "text": [
            "\u001b[1m============================= test session starts ==============================\u001b[0m\n",
            "platform linux -- Python 3.8.10, pytest-3.6.4, py-1.11.0, pluggy-0.7.1 -- /usr/bin/python3\n",
            "cachedir: .pytest_cache\n",
            "rootdir: /content/drive/MyDrive/10714/Deep-Learning-Systems-Algorithms-and-Implementation, inifile:\n",
            "plugins: typeguard-2.7.1\n",
            "collected 112 items / 108 deselected                                           \u001b[0m\n",
            "\n",
            "tests/test_nn_and_optim.py::test_init_kaiming_uniform \u001b[31mFAILED\u001b[0m\u001b[36m             [ 25%]\u001b[0m\n",
            "tests/test_nn_and_optim.py::test_init_kaiming_normal \u001b[31mFAILED\u001b[0m\u001b[36m              [ 50%]\u001b[0m\n",
            "tests/test_nn_and_optim.py::test_init_xavier_uniform \u001b[31mFAILED\u001b[0m\u001b[36m              [ 75%]\u001b[0m\n",
            "tests/test_nn_and_optim.py::test_init_xavier_normal \u001b[31mFAILED\u001b[0m\u001b[36m               [100%]\u001b[0m\n",
            "\n",
            "=================================== FAILURES ===================================\n",
            "\u001b[31m\u001b[1m__________________________ test_init_kaiming_uniform ___________________________\u001b[0m\n",
            "\n",
            "\u001b[1m    def test_init_kaiming_uniform():\u001b[0m\n",
            "\u001b[1m        np.random.seed(42)\u001b[0m\n",
            "\u001b[1m>       np.testing.assert_allclose(ndl.init.kaiming_uniform(3,5).numpy(),\u001b[0m\n",
            "\u001b[1m            np.array([[-0.35485414, 1.2748126 , 0.65617794, 0.27904832, -0.9729262 ],\u001b[0m\n",
            "\u001b[1m             [-0.97299445, -1.2499284 , 1.0357026 , 0.28599644, 0.58851814],\u001b[0m\n",
            "\u001b[1m             [-1.3559918 , 1.3291057 , 0.9402898 , -0.81362784, -0.8999349 ]],\u001b[0m\n",
            "\u001b[1m             dtype=np.float32), rtol=1e-4, atol=1e-4)\u001b[0m\n",
            "\n",
            "\u001b[1m\u001b[31mtests/test_nn_and_optim.py\u001b[0m:489: \n",
            "_ _ _ _ _ _ _ _ _ _ _ _ _ _ _ _ _ _ _ _ _ _ _ _ _ _ _ _ _ _ _ _ _ _ _ _ _ _ _ _ \n",
            "\n",
            "fan_in = 3, fan_out = 5, nonlinearity = 'relu', kwargs = {}\n",
            "\n",
            "\u001b[1m    def kaiming_uniform(fan_in, fan_out, nonlinearity=\"relu\", **kwargs):\u001b[0m\n",
            "\u001b[1m        assert nonlinearity == \"relu\", \"Only relu supported currently\"\u001b[0m\n",
            "\u001b[1m        ### BEGIN YOUR SOLUTION\u001b[0m\n",
            "\u001b[1m>       raise NotImplementedError()\u001b[0m\n",
            "\u001b[1m\u001b[31mE       NotImplementedError\u001b[0m\n",
            "\n",
            "\u001b[1m\u001b[31mpython/needle/init.py\u001b[0m:65: NotImplementedError\n",
            "\u001b[31m\u001b[1m___________________________ test_init_kaiming_normal ___________________________\u001b[0m\n",
            "\n",
            "\u001b[1m    def test_init_kaiming_normal():\u001b[0m\n",
            "\u001b[1m        np.random.seed(42)\u001b[0m\n",
            "\u001b[1m>       np.testing.assert_allclose(ndl.init.kaiming_normal(3,5).numpy(),\u001b[0m\n",
            "\u001b[1m            np.array([[ 0.4055654 , -0.11289233, 0.5288355 , 1.2435486 , -0.19118543],\u001b[0m\n",
            "\u001b[1m             [-0.19117202, 1.2894219 , 0.62660784, -0.38332424, 0.4429984 ],\u001b[0m\n",
            "\u001b[1m             [-0.37837896, -0.38026676, 0.19756137, -1.5621868 , -1.4083896 ]],\u001b[0m\n",
            "\u001b[1m             dtype=np.float32), rtol=1e-4, atol=1e-4)\u001b[0m\n",
            "\n",
            "\u001b[1m\u001b[31mtests/test_nn_and_optim.py\u001b[0m:497: \n",
            "_ _ _ _ _ _ _ _ _ _ _ _ _ _ _ _ _ _ _ _ _ _ _ _ _ _ _ _ _ _ _ _ _ _ _ _ _ _ _ _ \n",
            "\n",
            "fan_in = 3, fan_out = 5, nonlinearity = 'relu', kwargs = {}\n",
            "\n",
            "\u001b[1m    def kaiming_normal(fan_in, fan_out, nonlinearity=\"relu\", **kwargs):\u001b[0m\n",
            "\u001b[1m        assert nonlinearity == \"relu\", \"Only relu supported currently\"\u001b[0m\n",
            "\u001b[1m        ### BEGIN YOUR SOLUTION\u001b[0m\n",
            "\u001b[1m>       raise NotImplementedError()\u001b[0m\n",
            "\u001b[1m\u001b[31mE       NotImplementedError\u001b[0m\n",
            "\n",
            "\u001b[1m\u001b[31mpython/needle/init.py\u001b[0m:72: NotImplementedError\n",
            "\u001b[31m\u001b[1m___________________________ test_init_xavier_uniform ___________________________\u001b[0m\n",
            "\n",
            "\u001b[1m    def test_init_xavier_uniform():\u001b[0m\n",
            "\u001b[1m        np.random.seed(42)\u001b[0m\n",
            "\u001b[1m>       np.testing.assert_allclose(ndl.init.xavier_uniform(3, 5, gain=1.5).numpy(),\u001b[0m\n",
            "\u001b[1m            np.array([[-0.32595432, 1.1709901 , 0.60273796, 0.25632226, -0.8936898 ],\u001b[0m\n",
            "\u001b[1m             [-0.89375246, -1.1481324 , 0.95135355, 0.26270452, 0.54058844],\u001b[0m\n",
            "\u001b[1m             [-1.245558 , 1.2208616 , 0.8637113 , -0.74736494, -0.826643 ]],\u001b[0m\n",
            "\u001b[1m             dtype=np.float32), rtol=1e-4, atol=1e-4)\u001b[0m\n",
            "\n",
            "\u001b[1m\u001b[31mtests/test_nn_and_optim.py\u001b[0m:506: \n",
            "_ _ _ _ _ _ _ _ _ _ _ _ _ _ _ _ _ _ _ _ _ _ _ _ _ _ _ _ _ _ _ _ _ _ _ _ _ _ _ _ \n",
            "\n",
            "fan_in = 3, fan_out = 5, gain = 1.5, kwargs = {}\n",
            "\n",
            "\u001b[1m    def xavier_uniform(fan_in, fan_out, gain=1.0, **kwargs):\u001b[0m\n",
            "\u001b[1m        ### BEGIN YOUR SOLUTION\u001b[0m\n",
            "\u001b[1m>       raise NotImplementedError()\u001b[0m\n",
            "\u001b[1m\u001b[31mE       NotImplementedError\u001b[0m\n",
            "\n",
            "\u001b[1m\u001b[31mpython/needle/init.py\u001b[0m:52: NotImplementedError\n",
            "\u001b[31m\u001b[1m___________________________ test_init_xavier_normal ____________________________\u001b[0m\n",
            "\n",
            "\u001b[1m    def test_init_xavier_normal():\u001b[0m\n",
            "\u001b[1m        np.random.seed(42)\u001b[0m\n",
            "\u001b[1m>       np.testing.assert_allclose(ndl.init.xavier_normal(3, 5, gain=0.33).numpy(),\u001b[0m\n",
            "\u001b[1m            np.array([[ 0.08195783 , -0.022813609, 0.10686861 , 0.25129992 ,\u001b[0m\n",
            "\u001b[1m             -0.038635306],\u001b[0m\n",
            "\u001b[1m             [-0.038632598, 0.2605701 , 0.12662673 , -0.07746328 ,\u001b[0m\n",
            "\u001b[1m             0.08952241 ],\u001b[0m\n",
            "\u001b[1m             [-0.07646392 , -0.07684541 , 0.039923776, -0.31569123 ,\u001b[0m\n",
            "\u001b[1m             -0.28461143 ]], dtype=np.float32), rtol=1e-4, atol=1e-4)\u001b[0m\n",
            "\n",
            "\u001b[1m\u001b[31mtests/test_nn_and_optim.py\u001b[0m:514: \n",
            "_ _ _ _ _ _ _ _ _ _ _ _ _ _ _ _ _ _ _ _ _ _ _ _ _ _ _ _ _ _ _ _ _ _ _ _ _ _ _ _ \n",
            "\n",
            "fan_in = 3, fan_out = 5, gain = 0.33, kwargs = {}\n",
            "\n",
            "\u001b[1m    def xavier_normal(fan_in, fan_out, gain=1.0, **kwargs):\u001b[0m\n",
            "\u001b[1m        ### BEGIN YOUR SOLUTION\u001b[0m\n",
            "\u001b[1m>       raise NotImplementedError()\u001b[0m\n",
            "\u001b[1m\u001b[31mE       NotImplementedError\u001b[0m\n",
            "\n",
            "\u001b[1m\u001b[31mpython/needle/init.py\u001b[0m:58: NotImplementedError\n",
            "\u001b[31m\u001b[1m=================== 4 failed, 108 deselected in 1.09 seconds ===================\u001b[0m\n"
          ]
        }
      ],
      "source": [
        "!python3 -m pytest -v -k \"test_init\""
      ]
    },
    {
      "cell_type": "code",
      "execution_count": null,
      "metadata": {
        "id": "bJm2DC6cThjO"
      },
      "outputs": [],
      "source": [
        "!python -m mugrade submit 'YOUR_GRADER_KEY_HERE' -k \"init\" -s"
      ]
    },
    {
      "cell_type": "markdown",
      "metadata": {
        "id": "eR2krNKBThjP"
      },
      "source": [
        "## Question 2\n",
        "\n",
        "In this question, you will implement additional modules in `python/needle/nn.py`. Specifically, for the following modules described below, initialize any variables of the module in the constructor, and fill out the `forward` method. \n",
        "___\n",
        "\n",
        "### Linear\n",
        "`needle.nn.Linear(in_features, out_features, bias=True, device=None, dtype=\"float32\")`\n",
        "\n",
        "Applies a linear transformation to the incoming data: $y = xA^T + b$. The input shape is $(N, H_{in})$ where $H_{in}=\\text{in_features}$. The output shape is $(N, H_{out})$ where $H_{out}=\\text{out_features}$.\n",
        "\n",
        "Be careful to explicitly broadcast the bias term to the correct shape -- Needle does not support implicit broadcasting.\n",
        "\n",
        "Additionally note that, for all layers including this one, you should initialize the weight Tensor before the bias Tensor, and should initialize all Parameters using only functions from 'init'.\n",
        "\n",
        "##### Parameters\n",
        "- `in_features` - size of each input sample\n",
        "- `out_features` - size of each output sample\n",
        "- `bias` - If set to `False`, the layer will not learn an additive bias.\n",
        "\n",
        "##### Variables\n",
        "- `weight` - the learnable weights of shape (`in_features`, `out_features`). The values should be initialized with the Kaiming Uniform initialization with `fan_in = in_features`\n",
        "- `bias` - the learnable bias of shape (`out_features`). The values should be initialized with the Kaiming Uniform initialize with `fan_in = out_features`. **Note the different in fan_in choice, due to their relative sizes**. "
      ]
    },
    {
      "cell_type": "markdown",
      "source": [
        "# Caution:\n",
        "1. When creating bias, set **fan_in = out_features, fan_out = 1**. You CANNOT set **fan_in = 1, fan_out = out_features**\n",
        "2. You should initialize the weight Tensor before the bias Tensor, and should initialize all Parameters using only functions from 'init'.\n",
        "It can be explained as follows:\n",
        "```python\n",
        "np.random.seed(2)\n",
        "weight = np.random.rand(2, 3)\n",
        "bias= np.random.rand(2, 3)\n",
        "```\n",
        "```python\n",
        "np.random.seed(2)\n",
        "bias= np.random.rand(2, 3)\n",
        "weight = np.random.rand(2, 3)\n",
        "```\n"
      ],
      "metadata": {
        "id": "kIcNm5J0mr9d"
      }
    },
    {
      "cell_type": "code",
      "source": [],
      "metadata": {
        "id": "yBYGCnkknMJF"
      },
      "execution_count": null,
      "outputs": []
    },
    {
      "cell_type": "code",
      "execution_count": null,
      "metadata": {
        "id": "6CAfp8H_ThjP"
      },
      "outputs": [],
      "source": [
        "!python3 -m pytest -v -k \"test_nn_linear\""
      ]
    },
    {
      "cell_type": "code",
      "execution_count": null,
      "metadata": {
        "id": "9Fcrb7KzThjQ"
      },
      "outputs": [],
      "source": [
        "!python -m mugrade submit 'YOUR_GRADER_KEY_HERE' -k \"nn_linear\""
      ]
    },
    {
      "cell_type": "markdown",
      "metadata": {
        "id": "naing6FtThjR"
      },
      "source": [
        "### ReLU\n",
        "`needle.nn.ReLU()`\n",
        "\n",
        "Applies the rectified linear unit function element-wise:\n",
        "$ReLU(x) = max(0, x)$.\n",
        "\n",
        "If you have previously implemented ReLU's backwards pass in terms of itself, note that this is numerically unstable and will likely cause problems\n",
        "down the line.\n",
        "Instead, consider that we could write the derivative of ReLU as $I\\{x>0\\}$, where we arbitrarily decide that the derivative at $x=0$ is 0.\n",
        "(This is a _subdifferentiable_ function.)\n",
        "\n",
        "___"
      ]
    },
    {
      "cell_type": "code",
      "execution_count": null,
      "metadata": {
        "id": "KKa1_ylQThjR"
      },
      "outputs": [],
      "source": [
        "!python3 -m pytest -v -k \"test_nn_relu\""
      ]
    },
    {
      "cell_type": "code",
      "execution_count": null,
      "metadata": {
        "id": "9F86ABrhThjS"
      },
      "outputs": [],
      "source": [
        "!python -m mugrade submit 'YOUR_GRADER_KEY_HERE' -k \"nn_relu\""
      ]
    },
    {
      "cell_type": "markdown",
      "metadata": {
        "tags": [],
        "id": "wXUDL_fFThjS"
      },
      "source": [
        "### Sequential\n",
        "`needle.nn.Sequential(*modules)`\n",
        "\n",
        "Applies a sequence of modules to the input (in the order that they were passed to the constructor) and returns the output of the last module.\n",
        "These should be kept in a `.module` property: you should _not_ redefine any magic methods like `__getitem__`, as this may not be compatible with our tests.\n",
        "\n",
        "##### Parameters\n",
        "- `*modules` - any number of modules of type `needle.nn.Module`\n",
        "\n",
        "___"
      ]
    },
    {
      "cell_type": "code",
      "execution_count": null,
      "metadata": {
        "id": "poL283WVThjT"
      },
      "outputs": [],
      "source": [
        "!python3 -m pytest -v -k \"test_nn_sequential\""
      ]
    },
    {
      "cell_type": "code",
      "execution_count": null,
      "metadata": {
        "id": "T5Jf9F9SThjU"
      },
      "outputs": [],
      "source": [
        "!python -m mugrade submit 'YOUR_GRADER_KEY_HERE' -k \"nn_sequential\""
      ]
    },
    {
      "cell_type": "markdown",
      "metadata": {
        "tags": [],
        "id": "VjbagH2cThjU"
      },
      "source": [
        "### LogSumExp\n",
        "\n",
        "`needle.ops.LogSumExp(axes)`\n",
        "\n",
        "Here you will need to implement one additional operatior in the `python/ops.py` file, as you did in HW1. Applies a numerically stable log-sum-exp function to the input by subtracting off the maximum elements.\n",
        "\n",
        "\\begin{equation}\n",
        "\\text{LogSumExp}(z) = \\log (\\sum_{i} \\exp (z_i - \\max{z})) + \\max{z}\n",
        "\\end{equation}\n",
        "\n",
        "#### Parameters\n",
        "- `axes` - Tuple of axes to sum and take the maximum element over. This uses the same conventions as `needle.ops.Summation()`\n",
        "\n",
        "___"
      ]
    },
    {
      "cell_type": "code",
      "execution_count": null,
      "metadata": {
        "id": "BThbSPT5ThjV"
      },
      "outputs": [],
      "source": [
        "!python3 -m pytest -v -k \"test_op_logsumexp\""
      ]
    },
    {
      "cell_type": "code",
      "execution_count": null,
      "metadata": {
        "id": "-A3cdr8-ThjW"
      },
      "outputs": [],
      "source": [
        "!python -m mugrade submit 'YOUR_GRADER_KEY_HERE' -k \"op_logsumexp\""
      ]
    },
    {
      "cell_type": "markdown",
      "metadata": {
        "tags": [],
        "id": "SO21BKDOThjW"
      },
      "source": [
        "### SoftmaxLoss\n",
        "\n",
        "`needle.nn.SoftmaxLoss()`\n",
        "\n",
        "Applies the softmax loss as defined below (and as implemented in Homework 1), taking in as input a Tensor of logits and a Tensor of the true labels (expressed as a list of numbers, *not* one-hot encoded).\n",
        "\n",
        "Note that you can use the `init.one_hot` function now instead of writing this yourself.  Note: You will need to use the numerically stable logsumexp operated you just implemented for this purpose.\n",
        "\n",
        "\\begin{equation}\n",
        "\\ell_\\text{softmax}(z,y) = \\log \\sum_{i=1}^k \\exp z_i - z_y\n",
        "\\end{equation}\n",
        "\n",
        "___"
      ]
    },
    {
      "cell_type": "code",
      "execution_count": null,
      "metadata": {
        "id": "E5dlKUNjThjX"
      },
      "outputs": [],
      "source": [
        "!python3 -m pytest -v -k \"test_nn_softmax_loss\""
      ]
    },
    {
      "cell_type": "code",
      "execution_count": null,
      "metadata": {
        "id": "ofN0LZ7xThjX"
      },
      "outputs": [],
      "source": [
        "!python -m mugrade submit 'YOUR_GRADER_KEY_HERE' -k \"nn_softmax_loss\""
      ]
    },
    {
      "cell_type": "markdown",
      "metadata": {
        "tags": [],
        "id": "qEw6Ltp4ThjY"
      },
      "source": [
        "### LayerNorm1d\n",
        "`needle.nn.LayerNorm1d(dim, eps=1e-5, device=None, dtype=\"float32\")`\n",
        "\n",
        "Applies layer normalization over a mini-batch of inputs as described in the paper [Layer Normalization](https://arxiv.org/abs/1607.06450).\n",
        "\n",
        "\\begin{equation}\n",
        "y = w \\circ \\frac{x_i - \\textbf{E}[x]}{((\\textbf{Var}[x]+\\epsilon)^{1/2})} + b\n",
        "\\end{equation}\n",
        "\n",
        "where $\\textbf{E}[x]$ denotes the empirical mean of the inputs, $\\textbf{Var}[x]$ denotes their empirical variance (not that here we are using the \"unbiased\" estimate of the variance, i.e., dividing by $N$ rather than by $N-1$), and $w$ and $b$ denote learnable scalar weights and biases respectively.  Note you can assume the input to this layer by be a 2D tensor, with batches in the first dimension and features on the second.\n",
        "\n",
        "##### Parameters\n",
        "- `dim` - number of channels\n",
        "- `eps` - a value added to the denominator for numerical stability.\n",
        "\n",
        "##### Variables\n",
        "- `weight` - the learnable weights of size `dim`, elements initialized to 1.\n",
        "- `bias` - the learnable bias of shape `dim`, elements initialized to 0 **(changed from 1)**.\n",
        "___"
      ]
    },
    {
      "cell_type": "code",
      "execution_count": null,
      "metadata": {
        "id": "xYXlGY-AThjY"
      },
      "outputs": [],
      "source": [
        "!python3 -m pytest -v -k \"test_nn_layernorm\""
      ]
    },
    {
      "cell_type": "code",
      "execution_count": null,
      "metadata": {
        "id": "E9_FlCvcThjZ"
      },
      "outputs": [],
      "source": [
        "!python -m mugrade submit 'YOUR_GRADER_KEY_HERE' -k \"nn_layernorm\""
      ]
    },
    {
      "cell_type": "markdown",
      "metadata": {
        "id": "Oc4XMJnUThjZ"
      },
      "source": [
        "\n",
        "### Flatten\n",
        "`needle.nn.Flatten()`\n",
        "\n",
        "Takes in a tensor of shape `(B,X_0,X_1,...)`, and flattens all non-batch dimensions so that the output is of shape `(B, X_0 * X_1 * ...)`"
      ]
    },
    {
      "cell_type": "code",
      "execution_count": null,
      "metadata": {
        "id": "Gd0mVceMThjZ"
      },
      "outputs": [],
      "source": [
        "!python3 -m pytest -v -k \"test_nn_flatten\""
      ]
    },
    {
      "cell_type": "code",
      "execution_count": null,
      "metadata": {
        "id": "oJ2nm451ThjZ"
      },
      "outputs": [],
      "source": [
        "!python -m mugrade submit 'YOUR_GRADER_KEY_HERE' -k \"nn_flatten\""
      ]
    },
    {
      "cell_type": "markdown",
      "metadata": {
        "id": "tqf5lDNGThja"
      },
      "source": [
        "### BatchNorm1d\n",
        "`needle.nn.BatchNorm1d(dim, eps=1e-5, momentum=0.1, device=None, dtype=\"float32\")`\n",
        "\n",
        "Applies batch normalization over a mini-batch of inputs as described in the paper [Batch Normalization: Accelerating Deep Network Training by Reducing Internal Covariate Shift](https://arxiv.org/abs/1502.03167).\n",
        "\n",
        "\\begin{equation}\n",
        "y = w \\circ \\frac{z_i - \\textbf{E}[x]}{((\\textbf{Var}[x]+\\epsilon)^{1/2})} + b\n",
        "\\end{equation}\n",
        "\n",
        "but where here the mean and variance refer to to the mean and variance over the _batch_dimensions.  The function also computes a running average of mean/variance for all features at each layer $\\hat{\\mu}, \\hat{\\sigma}^2$, and at test time normalizes by these quantities:\n",
        "\n",
        "\\begin{equation}\n",
        "y = \\frac{(x - \\hat{mu})}{((\\hat{\\sigma}^2_{i+1})_j+\\epsilon)^{1/2}}\n",
        "\\end{equation}\n",
        "\n",
        "\n",
        "BatchNorm uses the running estimates of mean and variance instead of batch statistics at test time, i.e.,\n",
        "after `model.eval()` has been called on the BatchNorm layer's `training` flag is false.\n",
        "\n",
        "To compute the running estimates, you can use the equation $$\\hat{x_{new}} = (1 - m) \\hat{x_{old}} + mx_{observed},$$\n",
        "where $m$ is momentum.\n",
        "\n",
        "##### Parameters\n",
        "- `dim` - input dimension\n",
        "- `eps` - a value added to the denominator for numerical stability.\n",
        "- `momentum` - the value used for the running mean and running variance computation.\n",
        "\n",
        "##### Variables\n",
        "- `weight` - the learnable weights of size `dim`, elements initialized to 1.\n",
        "- `bias` - the learnable bias of size `dim`, elements initialized to 0.\n",
        "- `running_mean` - the running mean used at evaluation time, elements initialized to 0.\n",
        "- `running_var` - the running (unbiased) variance used at evaluation time, elements initialized to 1. \n",
        "\n",
        "___"
      ]
    },
    {
      "cell_type": "code",
      "execution_count": null,
      "metadata": {
        "id": "Ms2XFFVxThja"
      },
      "outputs": [],
      "source": [
        "!python3 -m pytest -v -k \"test_nn_batchnorm\""
      ]
    },
    {
      "cell_type": "code",
      "execution_count": null,
      "metadata": {
        "id": "uW9bC1QfThjb"
      },
      "outputs": [],
      "source": [
        "!python -m mugrade submit 'YOUR_GRADER_KEY_HERE' -k \"nn_batchnorm\""
      ]
    },
    {
      "cell_type": "markdown",
      "metadata": {
        "id": "-XObL4vuThjb"
      },
      "source": [
        "### Dropout\n",
        "`needle.nn.Dropout(p = 0.5)`\n",
        "\n",
        "During training, randomly zeroes some of the elements of the input tensor with probability `p` using samples from a Bernoulli distribution. This has proven to be an effective technique for regularization and preventing the co-adaptation of neurons as described in the paper [Improving neural networks by preventing co-adaption of feature detectors](https://arxiv.org/abs/1207.0580). During evaluation the module simply computes an identity function. \n",
        "\n",
        "\\begin{equation}\n",
        "\\hat{z}_{i+1} = \\sigma_i (W_i^T z_i + b_i) \\\\\n",
        "(z_{i+1})_j = \n",
        "    \\begin{cases}\n",
        "    (\\hat{z}_{i+1})_j /(1-p) & \\text{with probability } 1-p \\\\\n",
        "    0 & \\text{with probability } p \\\\\n",
        "    \\end{cases}\n",
        "\\end{equation}\n",
        "\n",
        "**Important**: If the Dropout module the flag `training=False`, you shouldn't \"dropout\" any weights. That is, dropout applies during training only, not during evaluation. Note that `training` is a flag in `nn.Module`.\n",
        "\n",
        "##### Parameters\n",
        "- `p` - the probability of an element to be zeroed.\n",
        "\n",
        "___"
      ]
    },
    {
      "cell_type": "code",
      "execution_count": null,
      "metadata": {
        "id": "t3FYCkReThjb"
      },
      "outputs": [],
      "source": [
        "!python3 -m pytest -v -k \"test_nn_dropout\""
      ]
    },
    {
      "cell_type": "code",
      "execution_count": null,
      "metadata": {
        "id": "FKrNPF80Thjc"
      },
      "outputs": [],
      "source": [
        "!python -m mugrade submit 'YOUR_GRADER_KEY_HERE' -k \"nn_dropout\""
      ]
    },
    {
      "cell_type": "markdown",
      "metadata": {
        "tags": [],
        "id": "hdPip4UGThjc"
      },
      "source": [
        "### Residual\n",
        "`needle.nn.Residual(fn: Module)`\n",
        "\n",
        "Applies a residual or skip connection given module $\\mathcal{F}$ and input Tensor $x$, returning $\\mathcal{F}(x) + x$.\n",
        "##### Parameters\n",
        "- `fn` - module of type `needle.nn.Module`"
      ]
    },
    {
      "cell_type": "code",
      "execution_count": null,
      "metadata": {
        "id": "GC-G9_yjThjc"
      },
      "outputs": [],
      "source": [
        "!python3 -m pytest -v -k \"test_nn_residual\""
      ]
    },
    {
      "cell_type": "code",
      "execution_count": null,
      "metadata": {
        "id": "XzqaeSzxThjd"
      },
      "outputs": [],
      "source": [
        "!python -m mugrade submit 'YOUR_GRADER_KEY_HERE' -k \"nn_residual\""
      ]
    },
    {
      "cell_type": "markdown",
      "metadata": {
        "tags": [],
        "id": "TedZG3oDThjd"
      },
      "source": [
        "## Question 3\n",
        "\n",
        "Implement the `step` function of the following optimizers.\n",
        "Make sure that your optimizers _don't_ modify the gradients of tensors in-place.\n",
        "\n",
        "We have included some tests to ensure that you are not consuming excessive memory, which can happen if you are\n",
        "not using `.data` or `.detach()` in the right places, thus building an increasingly large computational graph\n",
        "(not just in the optimizers, but in the previous modules as well).\n",
        "You can ignore these tests, which include the string `memory_check` at your own discretion.\n",
        "\n",
        "___\n",
        "\n",
        "### SGD\n",
        "`needle.optim.SGD(params, lr=0.01, momentum=0.0, weight_decay=0.0)`\n",
        "\n",
        "Implements stochastic gradient descent (optionally with momentum, shown as $\\beta$ below). \n",
        "\n",
        "\\begin{equation}\n",
        "\\begin{split}\n",
        "    u_{t+1} &= \\beta u_t + (1-\\beta) \\nabla_\\theta f(\\theta_t) \\\\\n",
        "    \\theta_{t+1} &= \\theta_t - \\alpha u_{t+1}\n",
        "\\end{split}\n",
        "\\end{equation}\n",
        "\n",
        "##### Parameters\n",
        "- `params` - iterable of parameters of type `needle.nn.Parameter` to optimize\n",
        "- `lr` (*float*) - learning rate\n",
        "- `momentum` (*float*) - momentum factor\n",
        "- `weight_decay` (*float*) - weight decay (L2 penalty)\n",
        "___"
      ]
    },
    {
      "cell_type": "code",
      "execution_count": null,
      "metadata": {
        "id": "Zr4fbdGxThjd"
      },
      "outputs": [],
      "source": [
        "!python3 -m pytest -v -k \"test_optim_sgd\""
      ]
    },
    {
      "cell_type": "code",
      "execution_count": null,
      "metadata": {
        "id": "iDHZHAniThjd"
      },
      "outputs": [],
      "source": [
        "!python -m mugrade submit 'YOUR_GRADER_KEY_HERE' -k \"optim_sgd\""
      ]
    },
    {
      "cell_type": "markdown",
      "metadata": {
        "tags": [],
        "id": "9Svyc7r6Thjf"
      },
      "source": [
        "### Adam\n",
        "`needle.optim.Adam(params, lr=0.01, beta1=0.9, beta2=0.999, eps=1e-8, weight_decay=0.0)`\n",
        "\n",
        "Implements Adam algorithm, proposed in [Adam: A Method for Stochastic Optimization](https://arxiv.org/abs/1412.6980). \n",
        "\n",
        "\\begin{equation}\n",
        "\\begin{split}\n",
        "u_{t+1} &= \\beta_1 u_t + (1-\\beta_1) \\nabla_\\theta f(\\theta_t) \\\\\n",
        "v_{t+1} &= \\beta_2 v_t + (1-\\beta_2) (\\nabla_\\theta f(\\theta_t))^2 \\\\\n",
        "\\hat{u}_{t+1} &= u_{t+1} / (1 - \\beta_1^t) \\quad \\text{(bias correction)} \\\\\n",
        "\\hat{v}_{t+1} &= v_{t+1} / (1 - \\beta_2^t) \\quad \\text{(bias correction)}\\\\\n",
        "\\theta_{t+1} &= \\theta_t - \\alpha \\hat{u_{t+1}}/(\\hat{v}_{t+1}^{1/2}+\\epsilon)\n",
        "\\end{split}\n",
        "    \\end{equation}\n",
        "\n",
        "**Important:** Pay attention to whether or not you are applying bias correction.\n",
        "\n",
        "##### Parameters\n",
        "- `params` - iterable of parameters of type `needle.nn.Parameter` to optimize\n",
        "- `lr` (*float*) - learning rate\n",
        "- `beta1` (*float*) - coefficient used for computing running average of gradient\n",
        "- `beta2` (*float*) - coefficient used for computing running average of square of gradient\n",
        "- `eps` (*float*) - term added to the denominator to improve numerical stability\n",
        "- `bias_correction` - whether to use bias correction for $u, v$\n",
        "- `weight_decay` (*float*) - weight decay (L2 penalty)"
      ]
    },
    {
      "cell_type": "code",
      "execution_count": null,
      "metadata": {
        "id": "5NQUiXxHThjf"
      },
      "outputs": [],
      "source": [
        "!python3 -m pytest -v -k \"test_optim_adam\""
      ]
    },
    {
      "cell_type": "code",
      "execution_count": null,
      "metadata": {
        "id": "TiRBQt25Thjg"
      },
      "outputs": [],
      "source": [
        "!python -m mugrade submit 'YOUR_GRADER_KEY_HERE' -k \"optim_adam\""
      ]
    },
    {
      "cell_type": "markdown",
      "metadata": {
        "id": "MF7L6y2gThjg"
      },
      "source": [
        "## Question 4\n",
        "\n",
        "In this question, you will implement two data primitives: `needle.data.DataLoader` and `needle.data.Dataset`. `Dataset` stores the samples and their corresponding labels, and `DataLoader` wraps an iterable around the `Dataset` to enable easy access to the samples. \n",
        "\n",
        "For this question, you will be working in `python/needle/data.py`. First, copy your solution to `parse_mnist` from the previous homework into the `parse_mnist` function. \n",
        "\n",
        "### Transformations\n",
        "\n",
        "First we will implement a few transformations that are helpful when working with images. We will stick with a horizontal flip and a random crop for now. Fill out the following functions in `data.py`.\n",
        "___ \n",
        "\n",
        "#### RandomFlipHorizontal\n",
        "`needle.data.RandomFlipHorizontal(p = 0.5)`\n",
        "\n",
        "Flips the image horizontally, with probability `p`.\n",
        "\n",
        "##### Parameters\n",
        "- `p` (*float*) - The probability of flipping the input image.\n",
        "___\n",
        "\n",
        "#### RandomCrop\n",
        "`needle.data.RandomCrop(padding=3)`\n",
        "\n",
        "Padding is added to all side of the image, and then the image is cropped back to it's original size at a random location. Returns an image the same size as the original image.\n",
        "\n",
        "##### Parameters\n",
        "- `padding` (*int*) - The padding on each border of the image."
      ]
    },
    {
      "cell_type": "code",
      "execution_count": null,
      "metadata": {
        "id": "mrJTm9c7Thjg"
      },
      "outputs": [],
      "source": [
        "!python3 -m pytest -v -k \"flip_horizontal\"\n",
        "!python3 -m pytest -v -k \"random_crop\""
      ]
    },
    {
      "cell_type": "code",
      "execution_count": null,
      "metadata": {
        "id": "cvgSvW-fThjg"
      },
      "outputs": [],
      "source": [
        "!python -m mugrade submit 'YOUR_GRADER_KEY_HERE' -k \"flip_horizontal\"\n",
        "!python -m mugrade submit 'YOUR_GRADER_KEY_HERE' -k \"random_crop\""
      ]
    },
    {
      "cell_type": "markdown",
      "metadata": {
        "id": "43whY-uQThjg"
      },
      "source": [
        "### Dataset\n",
        "\n",
        "Each `Dataset` subclass must implement three functions: `__init__`, `__len__`, and `__getitem__`. The `__init__` function initializes the images, labels, and transforms. The `__len__` function returns the number of samples in the dataset. The `__getitem__` function retrieves a sample from the dataset at a given index `idx`, calls the transform functions on the image (if applicable), converts the image and label to a numpy array (the data will be converted to Tensors elsewhere). Fill out these functions in the `MNISTDataset` class: \n",
        "___ \n",
        "\n",
        "### MNISTDataset\n",
        "`needle.data.MNISTDataset(image_filesname, label_filesname, transforms)`\n",
        "\n",
        "##### Parameters\n",
        "- `image_filesname` - path of file containing images\n",
        "- `label_filesname` - path of file containing labels\n",
        "- `transforms` - an optional list of transforms to apply to data\n"
      ]
    },
    {
      "cell_type": "code",
      "execution_count": null,
      "metadata": {
        "id": "BF20KW8AThjh"
      },
      "outputs": [],
      "source": [
        "!python3 -m pytest -v -k \"test_mnist_dataset\""
      ]
    },
    {
      "cell_type": "code",
      "execution_count": null,
      "metadata": {
        "id": "jtIli1sHThjh"
      },
      "outputs": [],
      "source": [
        "!python -m mugrade submit 'YOUR_GRADER_KEY_HERE' -k \"mnist_dataset\""
      ]
    },
    {
      "cell_type": "markdown",
      "metadata": {
        "id": "BRgxJEFYThjh"
      },
      "source": [
        "### Dataloader\n",
        "\n",
        "The Dataloader class provides an interface for assembling mini-batches of examples suitable for training using SGD-based approaches, backed by a Dataset object.  In order to build the typical Dataloader interface (allowing users to iterate over all the mini-batches in the dataset), you will need the implement the `__iter__()` and `__next__()` calls in the class: `__iter__()` is called at the start of iteration, while `__next__()` is called to grab the next mini-batch. Please note that subsequent calls to next will require you to return the following batches, so next is not a pure function.\n",
        "___\n",
        "\n",
        "### Dataloader\n",
        "`needle.data.Dataloader(dataset: Dataset, batch_size: Optional[int] = 1, shuffle: bool = False)`\n",
        "\n",
        "Combines a dataset and a sampler, and provides an iterable over the given dataset. \n",
        "\n",
        "##### Parameters\n",
        "- `dataset` - `needle.data.Dataset` - a dataset \n",
        "- `batch_size` - `int` - what batch size to serve the data in \n",
        "- `shuffle` - `bool` - set to ``True`` to have the data reshuffle at every epoch, default ``False``.\n",
        "___ \n",
        "\n",
        "\n",
        "\n"
      ]
    },
    {
      "cell_type": "code",
      "execution_count": null,
      "metadata": {
        "id": "a-s7l8mDThjh"
      },
      "outputs": [],
      "source": [
        "!python3 -m pytest -v -k \"test_dataloader\""
      ]
    },
    {
      "cell_type": "code",
      "execution_count": null,
      "metadata": {
        "id": "3BKB3qDzThji"
      },
      "outputs": [],
      "source": [
        "!python -m mugrade submit 'YOUR_GRADER_KEY_HERE' -k \"dataloader\""
      ]
    },
    {
      "cell_type": "markdown",
      "metadata": {
        "id": "V2vO6DPFThji"
      },
      "source": [
        "## Question 5\n",
        "\n",
        "Given you have now implemented all the necessary components for our neural network library, let's build and train an MLP ResNet. For this question, you will be working in `apps/mlp_resnet.py`. First, fill out the functions `ResidualBlock` and `MLPResNet` as described below:\n",
        "\n",
        "### ResidualBlock\n",
        "`ResidualBlock(dim, hidden_dim, norm=nn.BatchNorm1d, drop_prob=0.1)`\n",
        "\n",
        "Implements a residual block as follows:\n",
        "\n",
        "![](https://github.com/dlsyscourse/hw2/blob/master/figures/residualblock.png?raw=1)\n",
        "\n",
        "where the first linear layer has `in_features=dim` and `out_features=hidden_dim`, and the last linear layer has `out_features=dim`. Returns the block as type `nn.Module`. \n",
        "\n",
        "##### Parameters\n",
        "- `dim` (*int*) - input dim\n",
        "- `hidden_dim` (*int*) - hidden dim\n",
        "- `norm` (*nn.Module*) - normalization method\n",
        "- `drop_prob` (*float*) - dropout probability\n",
        "\n",
        "___\n",
        "\n",
        "### MLPResNet\n",
        "`MLPResNet(dim, hidden_dim=100, num_blocks=3, num_classes=10, norm=nn.BatchNorm1d, drop_prob=0.1)`\n",
        "\n",
        "Implements an MLP ResNet as follows:\n",
        "\n",
        "![](https://github.com/dlsyscourse/hw2/blob/master/figures/mlp_resnet.png?raw=1)\n",
        "\n",
        "where the first linear layer has `in_features=dim` and `out_features=hidden_dim`, and each ResidualBlock has `dim=hidden_dim` and `hidden_dim=hidden_dim//2`. Returns a network of type `nn.Module`.\n",
        "\n",
        "##### Parameters\n",
        "- `dim` (*int*) - input dim\n",
        "- `hidden_dim` (*int*) - hidden dim\n",
        "- `num_blocks` (*int*) - number of ResidualBlocks\n",
        "- `num_classes` (*int*) - number of classes\n",
        "- `norm` (*nn.Module*) - normalization method\n",
        "- `drop_prob` (*float*) - dropout probability (0.1)\n",
        "___ \n",
        "\n",
        "Once you have the deep learning model architecture correct, let's train the network using our new neural network library components. Specifically, implement the functions `epoch` and `train_mnist`.\n",
        "\n",
        "### Epoch\n",
        "\n",
        "`epoch(dataloader, model, opt=None)`\n",
        "\n",
        "Executes one epoch of training or evaluation, iterating over the entire training dataset once (just like `nn_epoch` from previous homeworks). Returns the average error rate **(changed from accuracy)** (as a *float*) and the average loss over all samples (as a *float*). Set the model to `training` mode at the beginning of the function if `opt` is given; set the model to `eval` if `opt` is not given (i.e. `None`).\n",
        "\n",
        "##### Parameters\n",
        "- `dataloader` (*`needle.data.DataLoader`*) - dataloader returning samples from the training dataset\n",
        "- `model` (*`needle.nn.Module`*) - neural network\n",
        "- `opt` (*`needle.optim.Optimizer`*) - optimizer instance, or `None`\n",
        "\n",
        "___\n",
        "\n",
        "### Train Mnist\n",
        "\n",
        "`train_mnist(batch_size=100, epochs=10, optimizer=ndl.optim.Adam, lr=0.001, weight_decay=0.001, hidden_dim=100, data_dir=\"data\")`\n",
        "                \n",
        "Initializes a training dataloader (with `shuffle` set to `True`) and a test dataloader for MNIST data, and trains an `MLPResNet` using the given optimizer (if `opt` is not None) and the softmax loss for a given number of epochs. Returns a tuple of the training accuracy, training loss, test accuracy, test loss computed in the last epoch of training. If any parameters are not specified, use the default parameters.\n",
        "\n",
        "##### Parameters\n",
        "- `batch_size` (*int*) - batch size to use for train and test dataloader\n",
        "- `epochs` (*int*) - number of epochs to train for\n",
        "- `optimizer` (*`needle.optim.Optimizer` type*) - optimizer type to use\n",
        "- `lr` (*float*) - learning rate \n",
        "- `weight_decay` (*float*) - weight decay\n",
        "- `hidden_dim` (*int*) - hidden dim for `MLPResNet`\n",
        "- `data_dir` (*int*) - directory containing MNIST image/label files\n"
      ]
    },
    {
      "cell_type": "code",
      "execution_count": null,
      "metadata": {
        "id": "Ij4p_A8AThjj"
      },
      "outputs": [],
      "source": [
        "!python3 -m pytest -v -k \"test_mlp\""
      ]
    },
    {
      "cell_type": "code",
      "execution_count": null,
      "metadata": {
        "id": "Sm28xRXaThjj"
      },
      "outputs": [],
      "source": [
        "!python -m mugrade submit 'YOUR_GRADER_KEY_HERE' -k \"mlp_resnet\""
      ]
    },
    {
      "cell_type": "markdown",
      "metadata": {
        "id": "OKirazqiThjk"
      },
      "source": [
        "We encourage to experiment with the `mlp_resnet.py` training script.\n",
        "You can investigate the effect of using different initializers on the Linear layers,\n",
        "increasing the dropout probability,\n",
        "or adding transforms (via a list to the `transforms=` keyword argument of Dataset)\n",
        "such as random cropping."
      ]
    }
  ],
  "metadata": {
    "kernelspec": {
      "display_name": "Python 3.8.10 64-bit",
      "language": "python",
      "name": "python3"
    },
    "language_info": {
      "codemirror_mode": {
        "name": "ipython",
        "version": 3
      },
      "file_extension": ".py",
      "mimetype": "text/x-python",
      "name": "python",
      "nbconvert_exporter": "python",
      "pygments_lexer": "ipython3",
      "version": "3.8.10"
    },
    "vscode": {
      "interpreter": {
        "hash": "31f2aee4e71d21fbe5cf8b01ff0e069b9275f58929596ceb00d14d90e3e16cd6"
      }
    },
    "colab": {
      "provenance": [],
      "include_colab_link": true
    }
  },
  "nbformat": 4,
  "nbformat_minor": 0
}
